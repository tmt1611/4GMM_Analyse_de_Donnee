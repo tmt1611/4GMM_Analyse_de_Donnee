{
 "cells": [
  {
   "cell_type": "markdown",
   "metadata": {},
   "source": [
    "# Data analysis: Velib"
   ]
  },
  {
   "cell_type": "markdown",
   "metadata": {},
   "source": [
    "Author: O. Roustant, INSA Toulouse. February 2022.\n",
    "\n",
    "\n",
    "We consider the ‘Vélib’ data set, related to the bike sharing system of Paris. The data are loading profiles of the bike stations over one week, collected every hour, from the period Monday 2nd Sept. - Sunday 7th Sept., 2014. The loading profile of a station, or simply loading, is defined as the ratio of number of available bikes divided by the number of bike docks. A loading of 1 means that the station is fully loaded, i.e. all bikes are available. A loading of 0 means that the station is empty, all bikes have been rent.\n",
    "\n",
    "From the viewpoint of data analysis, the individuals are the stations. The variables are the 168 time steps (hours in the week). The aim is to detect clusters in the data, corresponding to common customer usages. This clustering should then be used to predict the loading profile."
   ]
  },
  {
   "cell_type": "code",
   "execution_count": null,
   "metadata": {
    "scrolled": false
   },
   "outputs": [],
   "source": [
    "rm(list = ls())   # erase everything, start from scratch!\n",
    "\n",
    "# load the data from package funFEM\n",
    "\n",
    "library(funFEM)\n",
    "data(velib)\n",
    "help(\"velib\")"
   ]
  },
  {
   "cell_type": "code",
   "execution_count": null,
   "metadata": {},
   "outputs": [],
   "source": [
    "# data preparation\n",
    "x <- as.matrix(velib$data)\n",
    "colnames(x) <- 1:ncol(x)\n",
    "rownames(x) <- velib$names\n",
    "\n",
    "n <- nrow(x)\n",
    "stations <- 1:n \n",
    "coord <- velib$position[stations,]\n",
    "\n",
    "# select exactly 7 days of data (we remove the first 13 dates)\n",
    "dates <- 14:181\n",
    "x <- x[stations, dates]\n",
    "colnames(x) <- 1:length(dates)"
   ]
  },
  {
   "cell_type": "code",
   "execution_count": null,
   "metadata": {},
   "outputs": [],
   "source": [
    "timeTick <- 1 + 24*(0:6)  # vector corresponding to the beginning of days\n",
    "par(mfrow = c(1, 1))\n",
    "\n",
    "options(repr.plot.width = 15, repr.plot.height = 6)\n",
    "\n",
    "plot(x[1, ], col = \"blue\", type = \"l\", ylim = c(0, 1), \n",
    "     xlab = \"Time\", ylab = \"Loading\", main = rownames(x)[1])\n",
    "abline(v = timeTick, lty = \"dotted\")\n"
   ]
  },
  {
   "cell_type": "code",
   "execution_count": null,
   "metadata": {},
   "outputs": [],
   "source": [
    "# From now on, we use numbers instead of station names, \n",
    "# in order to simplify printing\n",
    "# rownames(x) <- 1:nrow(x)"
   ]
  },
  {
   "cell_type": "markdown",
   "metadata": {},
   "source": [
    "# Descriptive statistics.\n",
    "\n",
    "Some ideas : \n",
    "\n",
    "1. Draw a matrix of plots of size 4*4, corresponding to the first 16 stations. (Do not forget the vertical lines corresponding to days).\n",
    "2. Draw the boxplot of the variables, sorted in time order. \n",
    "What can you say about the distribution of the variables? \n",
    "Position, dispersion, symmetry? Can you see a difference between days?\n",
    "3. Plot the average hourly loading for each day (on a single graph).\n",
    "Comments? \n",
    "4. Plot the stations coordinates on a 2D map (latitude versus longitude). Use the package ggmap (function 'qmplot') to visualize the average loading for a given hour (6h, 12h, 23h) as a color scale.\n",
    "Comments ?\n",
    "5. Use a different color for stations which are located on a hill. (Use the basis 'plot' function, and the function 'qmplot' of R package ggmap).\n",
    "6. Redo questions 1-3 for the subset of stations which are located on a hill. Same questions for those who are not. Comment?"
   ]
  },
  {
   "cell_type": "markdown",
   "metadata": {},
   "source": [
    "### Loading in a week of the first 16 stations"
   ]
  },
  {
   "cell_type": "code",
   "execution_count": null,
   "metadata": {
    "scrolled": false
   },
   "outputs": [],
   "source": [
    "options(repr.plot.width = 20, repr.plot.height = 12)\n",
    "\n",
    "par(mfrow = c(4,4))\n",
    "for (sta in 1:16){\n",
    "    plot(x[sta, ], col = \"blue\", type = \"l\", ylim = c(0, 1), \n",
    "     xlab = \"Time\", ylab = \"Loading\", main = paste('No.',sta,' - ',rownames(x)[sta]))\n",
    "    abline(v = timeTick, lty = \"dotted\")\n",
    "}"
   ]
  },
  {
   "cell_type": "markdown",
   "metadata": {},
   "source": [
    "### Boxplot of hourly loading of each day"
   ]
  },
  {
   "cell_type": "code",
   "execution_count": null,
   "metadata": {},
   "outputs": [],
   "source": [
    "boxplot(x,ylab='loading',xlab='time (hour)')\n",
    "abline(v = timeTick,col='red')"
   ]
  },
  {
   "cell_type": "markdown",
   "metadata": {},
   "source": [
    "##### Comment : \n",
    "+ Range : 0.1 - 0.8\n",
    "+ Symmetry : No, more dispersed on the upper partition of the median.\n",
    "+ Difference between days : Yes, especially between weekdays and weekends. Not much, among weekdays (same with weekends)."
   ]
  },
  {
   "cell_type": "markdown",
   "metadata": {},
   "source": [
    "### Average hourly loading of each day"
   ]
  },
  {
   "cell_type": "code",
   "execution_count": null,
   "metadata": {},
   "outputs": [],
   "source": [
    "options(repr.plot.width = 20, repr.plot.height = 10)\n",
    "plot(colMeans(x),type='l',xlab='time (hour)',ylab='loading',main='Average hourly loading')\n",
    "abline(v = timeTick, lty = \"dotted\")"
   ]
  },
  {
   "cell_type": "markdown",
   "metadata": {},
   "source": [
    "### Map of stations, colored by average loading at 6h, 12h, 23h"
   ]
  },
  {
   "cell_type": "code",
   "execution_count": null,
   "metadata": {},
   "outputs": [],
   "source": [
    "library(ggmap)"
   ]
  },
  {
   "cell_type": "code",
   "execution_count": null,
   "metadata": {},
   "outputs": [],
   "source": [
    "sta = 1:nrow(x)\n",
    "\n",
    "tick6h = 6 + 24*(0:6)\n",
    "tick12h = 12 + 24*(0:6)\n",
    "tick23h = 23 + 24*(0:6)\n",
    "avg6h = rowMeans(x[sta,tick6h])\n",
    "avg12h = rowMeans(x[sta,tick12h])\n",
    "avg23h = rowMeans(x[sta,tick23h])\n",
    "\n",
    "lon = coord[sta,1]\n",
    "lat = coord[sta,2]\n",
    "bonus = velib$bonus[sta]\n",
    "xmap = cbind(lon, lat, avg6h, avg12h, avg23h,bonus)\n",
    "xmap = as.data.frame(xmap)"
   ]
  },
  {
   "cell_type": "code",
   "execution_count": null,
   "metadata": {
    "scrolled": true
   },
   "outputs": [],
   "source": [
    "# theme_update(plot.title = element_text(hjust = 0.5))\n",
    "# options(repr.plot.width = 15, repr.plot.height = 10)\n",
    "# qmplot(x=lon, y=lat, data=xmap, colour = avg23h, size=I(12), alpha=I(0.7),zoom=13) +\n",
    "#     geom_point(aes(x = lon, y = lat, colour = avg12h, size = I(8),alpha=I(0.7),stroke=0.5),data = xmap) + \n",
    "#     geom_point(aes(x = lon, y = lat, colour = avg6h, size = I(4),alpha=I(0.7)),data = xmap) + \n",
    "#     scale_color_gradient2(high = \"red\") +\n",
    "#     ggtitle(\"Map of stations, colored by average loading at 6h,12h,23h\")"
   ]
  },
  {
   "cell_type": "code",
   "execution_count": null,
   "metadata": {
    "scrolled": false
   },
   "outputs": [],
   "source": [
    "theme_update(plot.title = element_text(hjust = 0.5))\n",
    "options(repr.plot.width = 15, repr.plot.height = 10)\n",
    "qmplot(x=lon, y=lat, data=xmap, colour = avg6h, size=I(5), alpha=I(0.7),zoom=13) + \n",
    "    ggtitle(\"Map of stations, colored by average loading at 6h\")\n",
    "qmplot(x=lon, y=lat, data=xmap, colour = avg12h, size=I(5), alpha=I(0.7),zoom=13) + \n",
    "    ggtitle(\"Map of stations, colored by average loading at 12h\")\n",
    "qmplot(x=lon, y=lat, data=xmap, colour = avg23h, size=I(5), alpha=I(0.7),zoom=13) + \n",
    "    ggtitle(\"Map of stations, colored by average loading at 23h\")"
   ]
  },
  {
   "cell_type": "markdown",
   "metadata": {},
   "source": [
    "### Hill"
   ]
  },
  {
   "cell_type": "code",
   "execution_count": null,
   "metadata": {},
   "outputs": [],
   "source": [
    "qmplot(x=lon, y=lat, data=xmap, colour = factor(bonus), size=I(5), alpha=I(0.7),zoom=13)"
   ]
  },
  {
   "cell_type": "code",
   "execution_count": null,
   "metadata": {
    "scrolled": false
   },
   "outputs": [],
   "source": [
    "theme_update(plot.title = element_text(hjust = 0.5))\n",
    "options(repr.plot.width = 15, repr.plot.height = 10)\n",
    "\n",
    "qmplot(x=lon, y=lat, data=xmap, colour = factor(bonus), size=I(5), alpha=I(avg6h**2),zoom=13) + scale_color_manual(values = c(\"red\",\"blue\")) +\n",
    "    ggtitle(\"Map of stations, colored by average loading at 6h\")\n",
    "\n",
    "qmplot(x=lon, y=lat, data=xmap, colour = factor(bonus), size=I(5), alpha=I(avg12h**2),zoom=13) + scale_color_manual(values = c(\"red\",\"blue\")) +\n",
    "    ggtitle(\"Map of stations, colored by average loading at 12h\")\n",
    "\n",
    "qmplot(x=lon, y=lat, data=xmap, colour = factor(bonus), size=I(5), alpha=I(avg23h**2),zoom=13) + scale_color_manual(values = c(\"red\",\"blue\")) +\n",
    "    ggtitle(\"Map of stations, colored by average loading at 23h\")"
   ]
  },
  {
   "cell_type": "markdown",
   "metadata": {},
   "source": [
    "### Hill"
   ]
  },
  {
   "cell_type": "code",
   "execution_count": null,
   "metadata": {},
   "outputs": [],
   "source": [
    "x_hill = x[which(bonus==1),]\n",
    "x_land = x[which(bonus==0),]"
   ]
  },
  {
   "cell_type": "code",
   "execution_count": null,
   "metadata": {},
   "outputs": [],
   "source": [
    "options(repr.plot.width = 20, repr.plot.height = 12)\n",
    "\n",
    "par(mfrow = c(4,4))\n",
    "for (sta in 1:16){\n",
    "    plot(x_hill[sta, ], col = \"blue\", type = \"l\", ylim = c(0, 1), \n",
    "     xlab = \"Time\", ylab = \"Loading\", main = paste('No.',sta,' - ',rownames(x_hill)[sta]))\n",
    "    abline(v = timeTick, lty = \"dotted\")\n",
    "}"
   ]
  },
  {
   "cell_type": "code",
   "execution_count": null,
   "metadata": {},
   "outputs": [],
   "source": [
    "boxplot(x_hill,ylab='loading',xlab='time (hour)')\n",
    "abline(v = timeTick,col='red')"
   ]
  },
  {
   "cell_type": "code",
   "execution_count": null,
   "metadata": {},
   "outputs": [],
   "source": [
    "options(repr.plot.width = 20, repr.plot.height = 10)\n",
    "plot(colMeans(x_hill),type='l',xlab='time (hour)',ylab='loading',main='Average hourly loading')\n",
    "abline(v = timeTick, lty = \"dotted\")"
   ]
  },
  {
   "cell_type": "code",
   "execution_count": null,
   "metadata": {},
   "outputs": [],
   "source": [
    "options(repr.plot.width = 20, repr.plot.height = 12)\n",
    "\n",
    "par(mfrow = c(4,4))\n",
    "for (sta in 1:16){\n",
    "    plot(x_land[sta, ], col = \"blue\", type = \"l\", ylim = c(0, 1), \n",
    "     xlab = \"Time\", ylab = \"Loading\", main = paste('No.',sta,' - ',rownames(x_land)[sta]))\n",
    "    abline(v = timeTick, lty = \"dotted\")\n",
    "}"
   ]
  },
  {
   "cell_type": "code",
   "execution_count": null,
   "metadata": {},
   "outputs": [],
   "source": [
    "boxplot(x_land,ylab='loading',xlab='time (hour)')\n",
    "abline(v = timeTick,col='red')"
   ]
  },
  {
   "cell_type": "code",
   "execution_count": null,
   "metadata": {},
   "outputs": [],
   "source": [
    "options(repr.plot.width = 20, repr.plot.height = 10)\n",
    "plot(colMeans(x_land),type='l',xlab='time (hour)',ylab='loading',main='Average hourly loading')\n",
    "abline(v = timeTick, lty = \"dotted\")"
   ]
  },
  {
   "cell_type": "code",
   "execution_count": null,
   "metadata": {},
   "outputs": [],
   "source": [
    "plot(colMeans(x_hill),type='l',xlab='time (hour)',ylab='loading',main='Average hourly loading')\n",
    "lines(colMeans(x_land),col=\"red\")\n",
    "legend(\"right\",legend=c(\"Not on hill\",\"On hill\"),\n",
    "       col=c(\"red\", \"black\"), lty=1:1, cex=0.8)"
   ]
  }
 ],
 "metadata": {
  "kernelspec": {
   "display_name": "R",
   "language": "R",
   "name": "ir"
  },
  "language_info": {
   "codemirror_mode": "r",
   "file_extension": ".r",
   "mimetype": "text/x-r-source",
   "name": "R",
   "pygments_lexer": "r",
   "version": "4.0.3"
  },
  "toc": {
   "base_numbering": 1,
   "nav_menu": {},
   "number_sections": true,
   "sideBar": true,
   "skip_h1_title": false,
   "title_cell": "Table of Contents",
   "title_sidebar": "Contents",
   "toc_cell": false,
   "toc_position": {},
   "toc_section_display": true,
   "toc_window_display": false
  }
 },
 "nbformat": 4,
 "nbformat_minor": 4
}
